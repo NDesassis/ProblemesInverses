{
 "cells": [
  {
   "cell_type": "code",
   "execution_count": null,
   "id": "8ea85a65",
   "metadata": {},
   "outputs": [],
   "source": [
    "using Pkg;\n",
    "#Pkg.add(\"Wavelets\");Pkg.add(\"ImageFiltering\")\n",
    "using Wavelets, TestImages,Plots,ImageFiltering"
   ]
  },
  {
   "cell_type": "markdown",
   "id": "861e7111",
   "metadata": {},
   "source": [
    "# Déconvolution dans une base d'ondelettes\n",
    "\n",
    "On veut résoudre le problème de déconvolution\n",
    "$$y=Ax+b \\quad \\mbox{où} \\quad(Ax)(s)=\\int h(t)x(s-t) dt  $$\n",
    "et $h$ est la réponse impulsionnelle et $b$ est un bruit.\n",
    "\n",
    "Néanmoins, on va essayer de reconstruire des signaux différents de signaux parcimonieux dans la base canonique.\n"
   ]
  },
  {
   "cell_type": "code",
   "execution_count": null,
   "id": "0a32a585",
   "metadata": {},
   "outputs": [],
   "source": [
    "# Création du signal original\n",
    "n=128 # taille du signal (prendre une puissance de 2)\n",
    "x0 = testfunction(n, \"Blocks\") # on peut essayer aussi Bumps, HeaviSine\n",
    "plot(x0,label=\"Signal original\")"
   ]
  },
  {
   "cell_type": "markdown",
   "id": "caa05738",
   "metadata": {},
   "source": [
    "1. Observer les coefficients d'ondelettes du signal. Commenter."
   ]
  },
  {
   "cell_type": "code",
   "execution_count": null,
   "id": "e355d4bb",
   "metadata": {},
   "outputs": [],
   "source": [
    "# Observation des coefficients en ondelette\n",
    "wt= wavelet(WT.haar,WT.SymBound)\n",
    "#wt = wavelet(WT.db3, WT.SymBound)\n",
    "c=dwt(x0,wt) # Coefficients de x0 dans la base d'ondelettes\n",
    "plot(c,lines=:stem,marker=:circle)"
   ]
  },
  {
   "cell_type": "code",
   "execution_count": null,
   "id": "1f1ba9bc",
   "metadata": {},
   "outputs": [],
   "source": [
    "# Filtrage: noyau gaussien\n",
    "largeur=1.0 # largeur de la gaussienne\n",
    "h = ImageFiltering.Kernel.gaussian((largeur,))\n",
    "\n",
    "xfilt = imfilter(x0, h)\n",
    "sigma=0.0\n",
    "bruit=sigma*randn(size(xfilt))\n",
    "y=xfilt+bruit\n",
    "plot(xfilt,label=\"Filtré\")\n",
    "plot!(y,label=\"Observation\")"
   ]
  },
  {
   "cell_type": "markdown",
   "id": "783a28fc",
   "metadata": {},
   "source": [
    "## Résolution par la transformée en ondelettes\n",
    "\n",
    "On va se placer dans la base des coefficients d'ondelettes et résoudre\n",
    "\n",
    "$$ \\min \\lambda\\|c\\|_1 +1/2 \\| AWc-y\\|^2$$\n",
    "où $A$ est l'opérateur de convolution et $W$ l'application qui à des coefficients d'ondelettes reconstruit la fonction associée."
   ]
  },
  {
   "cell_type": "code",
   "execution_count": null,
   "id": "abeae3f0",
   "metadata": {},
   "outputs": [],
   "source": [
    "# Quelques fonctions auxiliaires\n",
    "\n",
    "function soft_thresh(c,seuil)\n",
    "    return (sign(c)*max(abs(c)-seuil,0.)) \n",
    "end    \n",
    "\n",
    "\n",
    "function applyAW(c)\n",
    "    global wt\n",
    "    global h\n",
    "    x=idwt(c, wt)#signal\n",
    "    return imfilter(x, reflect(h),\"reflect\") \n",
    "    #return imfilter(x, reflect(h),\"circular\") \n",
    "end\n",
    "function applyAWstar(x)\n",
    "    global wt\n",
    "    global h\n",
    "    xfilt=imfilter(x, h,\"reflect\")\n",
    "    #xfilt=imfilter(x, h,\"circular\")\n",
    "    return dwt(xfilt,wt)# coefficients d'ondelette\n",
    "end\n",
    "\n",
    "\"\"\"\n",
    "    fwbackward(applyA!,applyAstar!,λ,τ,niter,xinit=zeros(size(A,2)))\n",
    "Applique l'algorithme ISTA avec l'opérateur A donné à travers les fonctions applyA et applyAstar.\n",
    "On cherche à résoudre\n",
    "min λ||x||_1 +1/2 |Ax-y|^2\n",
    "\n",
    "tau : pas de la descente de gradient (forward)\n",
    "niter: nombre d'itérations\n",
    "\"\"\"\n",
    "function fwbackward(applyAW,applyAWstar,y,λ,τ,niter,cinit)\n",
    "    c=copy(cinit)\n",
    "    \n",
    "    for k=1:niter\n",
    "        c.= c.-τ*applyAWstar(applyAW(c)-y)\n",
    "        c.=soft_thresh.(c,λ*τ)\n",
    "    end\n",
    "    return c\n",
    "end"
   ]
  },
  {
   "cell_type": "markdown",
   "id": "785ffdf9",
   "metadata": {},
   "source": [
    "2. Sachant que la norme d'un opérateur de convolution est $\\|h\\|_1$ et que la matrice de la transformée en ondelettes est orthogonale, donner (un majorant de) la norme de $AW$."
   ]
  },
  {
   "cell_type": "code",
   "execution_count": null,
   "id": "1f9a96b1",
   "metadata": {},
   "outputs": [],
   "source": [
    "# normA=  # A COMPLETER\n",
    "#tau= # A COMPLETER\n",
    "λ=0.01\n",
    "crec=fwbackward(applyAW,applyAWstar,y,λ,tau,10000,zeros(n))\n",
    "xrec=idwt(crec,wt);\n",
    "plot(x0,label=\"Signal recherché\")\n",
    "plot!(y,label=\"Observation\")\n",
    "plot!(xrec,label=\"Signal recontruit\")"
   ]
  },
  {
   "cell_type": "markdown",
   "id": "cd33538d",
   "metadata": {},
   "source": [
    "## Reconstruction d'images"
   ]
  },
  {
   "cell_type": "markdown",
   "id": "1c542985",
   "metadata": {},
   "source": [
    "3. Charger une image et observer ses coefficients d'ondelettes. Commenter."
   ]
  },
  {
   "cell_type": "code",
   "execution_count": null,
   "id": "9f59591e",
   "metadata": {},
   "outputs": [],
   "source": [
    "using Images, Plots, TestImages\n",
    "img=Float32.(Gray.(testimage(\"house\"))) # cameraman, house,coffee, chelsea... voir la liste sur https://testimages.juliaimages.org/\n",
    "M,N=size(img)\n",
    "plot(Gray.(img),showaxis=false,title=\"Image originale\")\n",
    "\n",
    "wt = wavelet(WT.haar, WT.SymBound)\n",
    "#On peut aussi essayer un autre type d'ondelette. Dans ce cas, il faut réévaluer la cellule de applyAW et applyAWstar\n",
    "#wt = wavelet(WT.db3, WT.SymBound)\n",
    "\n",
    "\n",
    "L = 3 # Nombre de niveaux d'ondelette\n",
    "xts = wplotim(img, L, wt)\n",
    "\n",
    "display(plot(Gray.(img),showaxis=false,title=\"Image originale\"))\n",
    "plot(Gray.(xts),showaxis=false,title=\"Coefficients ondelette\")"
   ]
  },
  {
   "cell_type": "markdown",
   "id": "aa0b1600",
   "metadata": {},
   "source": [
    "4. Essayer différentes reconstruction pour différentes valeurs de $\\sigma$ et $\\lambda$. On pourra aussi changer de type d'ondelette."
   ]
  },
  {
   "cell_type": "code",
   "execution_count": null,
   "id": "cd3ea73b",
   "metadata": {},
   "outputs": [],
   "source": [
    "# Filtrage: noyau gaussien\n",
    "largeur=3.0 # largeur de la gaussienne\n",
    "h = ImageFiltering.Kernel.gaussian(largeur)\n",
    "\n",
    "xfilt = imfilter(img, h,\"reflect\")\n",
    "sigma=0.0\n",
    "bruit=sigma*randn(size(xfilt))\n",
    "y=xfilt+bruit\n",
    "#plot(xfilt,label=\"Filtré\")\n",
    "plot(Gray.(y),title=\"Observation\")"
   ]
  },
  {
   "cell_type": "code",
   "execution_count": null,
   "id": "9ec17a82",
   "metadata": {},
   "outputs": [],
   "source": [
    "# normA=  # A COMPLETER\n",
    "#tau= # A COMPLETER\n",
    "λ=0.001\n",
    "crec=fwbackward(applyAW,applyAWstar,y,λ,tau,400,zeros(M,N)) # reconstruction des coefficients\n",
    "xrec=idwt(crec,wt); # reconstruction de l'image\n",
    "display(plot(Gray.(y),title=\"Image observée\"))\n",
    "display(plot(Gray.(xrec),title=\"Image reconstruite\"))"
   ]
  }
 ],
 "metadata": {
  "kernelspec": {
   "display_name": "Julia 1.7.2",
   "language": "julia",
   "name": "julia-1.7"
  },
  "language_info": {
   "file_extension": ".jl",
   "mimetype": "application/julia",
   "name": "julia",
   "version": "1.7.2"
  }
 },
 "nbformat": 4,
 "nbformat_minor": 5
}
