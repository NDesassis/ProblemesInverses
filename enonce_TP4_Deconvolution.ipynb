{
 "cells": [
  {
   "cell_type": "markdown",
   "metadata": {},
   "source": [
    "# TP - ES Problèmes inverses\n",
    "\n",
    "Vincent Duval, Nicolas Desassis"
   ]
  },
  {
   "cell_type": "markdown",
   "metadata": {},
   "source": [
    "## Exercice 4 - Déconvolution en traitement d'images\n",
    "Le but de cette partie est d'étudier l'importance de régulariser un problème inverse avec ou sans bruit.\n"
   ]
  },
  {
   "cell_type": "code",
   "execution_count": null,
   "metadata": {},
   "outputs": [],
   "source": [
    "using Images, Plots, TestImages\n",
    "using Wavelets, FFTW\n",
    "include(\"toolBoxImage.jl\");"
   ]
  },
  {
   "cell_type": "markdown",
   "metadata": {},
   "source": [
    "**0.** Charger une image. On pourra consulter la liste des images disponibles sur https://testimages.juliaimages.org/"
   ]
  },
  {
   "cell_type": "code",
   "execution_count": null,
   "metadata": {},
   "outputs": [],
   "source": [
    "img=Float32.(Gray.(testimage(\"lighthouse\"))) # house,coffee, chelsea... voir la liste sur https://testimages.juliaimages.org/\n",
    "M,N=size(img)\n",
    "plot(Gray.(img),showaxis=false,title=\"Image originale\")"
   ]
  },
  {
   "cell_type": "markdown",
   "metadata": {},
   "source": [
    "## I. Convolution\n",
    "On étudie l'opérateur de convolution périodique $A\\colon L^2([0,1]^2) \\rightarrow L^2([0,1]^2)$ défini par \n",
    " $$\\forall x \\in [0,1]^2, \\quad Au(x)=\\int_{[0,1]^2}h(x-s)u(s)\\mathrm{d} s, $$\n",
    "où $h \\in L^2([0,1]^2)$ est le noyau de convolution (étendu par 1-périodicité), aussi appelé fonction d'étalement du point (*Point Spread Function*, PSF) ou réponse impulsionnelle."
   ]
  },
  {
   "cell_type": "markdown",
   "metadata": {},
   "source": [
    "**I.1)** Rappeler une décomposition en valeurs singulières de l'opérateur $A$."
   ]
  },
  {
   "cell_type": "markdown",
   "metadata": {},
   "source": [
    "\n",
    "**I.2)** Pour différentes valeur de fréquences de coupures et types de filtres (Gaussian, Cauchy), observer:\n",
    "- la réponse impulsionnelle, $h(x)$ pour $x \\in [-1/2,1/2]^2$,\n",
    "- la fonction de transfert, $c_k(h) = \\int_{[0,1]^2} h(x)e^{-2\\imath \\left(k_1 x_1 + k2 x_2 \\right)}\\mathrm{d}x_1\\mathrm{d}x_2 \\approx \\frac{1}{MN}\\sum_{\\substack{0\\leq j_1\\leq M-1,\\\\0\\leq j_2\\leq N-1}}h\\left(\\frac{j_1}{M},\\frac{j_2}{N}\\right)e^{-2\\imath \\pi \\left(k_1\\frac{j_1}{M}+ k_2\\frac{j_2}{N}\\right)}$,\n",
    "- l'effet de A sur u.\n",
    "\n",
    "D'après vous, quels sont les problèmes les plus mal posés?"
   ]
  },
  {
   "cell_type": "code",
   "execution_count": null,
   "metadata": {
    "scrolled": true
   },
   "outputs": [],
   "source": [
    "f0h=40 # frequence de coupure du filtre (en hauteur - height) # A MODIFIER\n",
    "f0w=40 # frequence de coupure du filtre (en largeur - width) # A MODIFIER\n",
    "filtertype =\"Cauchy\" # Type de filtre (\"Gaussian\" ou \"Cauchy\") # A MODIFIER\n",
    "h,ckh,freqh,freqw=prepare_filter(M,N,f0h,f0w,filtertype) # renvoie la réponse impulsionnelle et sa transformée de Fourier\n",
    "\n",
    "xh,xw=((1:M).-floor(M/2))/M, ((1:N).-floor(N/2))/N # vecteur position (xheight et xwidth)\n",
    "display(plot(xh,xw,Gray.(h/maximum(h)),title=\"Réponse impulsionnelle h\"))\n",
    "display(plot(freqh,freqw,Gray.(fftshift(ckh)),title=\"Fonction de transfert c_k(h)\"))\n",
    "\n",
    "\n",
    "ckimg=fft(img) # Transformée de Fourier de u\n",
    "y=real.(ifft(ckh.*ckimg)) # convolution\n",
    "display(plot(Gray.(y),showaxis=false,title=\"Signal filtré y=Au\"))"
   ]
  },
  {
   "cell_type": "markdown",
   "metadata": {},
   "source": [
    "On suppose aussi que l'observation a été contaminée par un bruit, $\\tilde{y}=y + \\delta y$.\n",
    "Plusieurs types de bruit peuvent contaminer les images. \n",
    "Pendant le processus d’acquisition, les capteurs CCD (Charge-Coupled-Devices) sont soumis au\n",
    "bruit de grenaille, qui est dû à la nature discrète de la quantité mesurée (c’est-à-dire le nombre de photons reçus), et qui suivent une loi de Poisson. L’effet du bruit de grenaille est d’autant plus important que\n",
    "le nombre de photons est faible, de sorte que les scènes insuffisamment éclairées apparaissent souvent\n",
    "bruitées. Le bruit thermique est aussi responsable de la dégration des images : en fonction de la température du capteur l’agitation thermique des électrons induit un courant qui s’ajoute au signal original.\n",
    "\n",
    "\n",
    "Pour simplifier, on prendra ici une perturbation $\\delta y$ qui suit une loi gaussienne centrée d'écart type $\\nu$."
   ]
  },
  {
   "cell_type": "code",
   "execution_count": null,
   "metadata": {
    "scrolled": false
   },
   "outputs": [],
   "source": [
    "nu=0.01# écart-type du bruit # A MODIFIER\n",
    "yBruit=y+nu*randn(M,N)\n",
    "ckyBruit= fft(yBruit)\n",
    "plot(Gray.(yBruit),showaxis=false)"
   ]
  },
  {
   "cell_type": "markdown",
   "metadata": {},
   "source": [
    "  ## II. Inversion directe\n",
    "  \n",
    "  **II.1)** La solution de $Au=y$ est elle unique ? Montrer que cette solution (ou celle de norme minimale le cas échéant) vérifie\n",
    "  $$c_k(u) = \\frac{1}{c_k(h)}c_k(y)$$ \n",
    "  et la calculer sur les différents exemples."
   ]
  },
  {
   "cell_type": "code",
   "execution_count": null,
   "metadata": {},
   "outputs": [],
   "source": [
    "g(x)=1/x  \n",
    "ckinv= g.(ckh);"
   ]
  },
  {
   "cell_type": "code",
   "execution_count": null,
   "metadata": {},
   "outputs": [],
   "source": [
    "# Reconstruction à partir de l'observation sans bruit\n",
    "# Essayer avec différentes valeurs de filtrage (voir à la question 2). Par exemple avec gaussian et f0w=80 puis f0w=40 \n",
    "cky=fft(y)\n",
    "u=real.(ifft(cky.*ckinv))\n",
    "plot(Gray.(u),showaxis=false)"
   ]
  },
  {
   "cell_type": "code",
   "execution_count": null,
   "metadata": {},
   "outputs": [],
   "source": [
    "# Reconstruction à partir de l'image bruitée. Idem, essayer plusieurs valeurs de filtres et de bruit\n",
    "#ubruit=  # A COMPLETER\n",
    "\n",
    "plot(Gray.(uBruit),showaxis=false)\n"
   ]
  },
  {
   "cell_type": "markdown",
   "metadata": {},
   "source": [
    "## III. Filtrage de Tikhonov\n",
    "\n",
    "On veut régulariser en utilisant la méthode de Tikhonov,\n",
    "$$ \\min_u \\frac{\\lambda}{2}\\|u\\|^2 + \\frac{1}{2}\\|Au-y\\|^2$$ \n",
    " (ou bien $\\tilde{y}$ remplacera $y$ si l'observation est bruitée)."
   ]
  },
  {
   "cell_type": "markdown",
   "metadata": {},
   "source": [
    "**III.1)** Montrer que la solution est donnée par \n",
    "$$c_k(u) =  \\frac{c_k(h)}{\\lambda + |c_k(h)|^2} c_k(y).$$\n",
    "Appliquer ce filtrage sur l'observation $y$ et l'observation bruitée $\\tilde{y}$."
   ]
  },
  {
   "cell_type": "code",
   "execution_count": null,
   "metadata": {},
   "outputs": [],
   "source": [
    "lambda=0.05\n",
    "\n",
    "# gTik(x)=  # A COMPLETER\n",
    "ckTik= gTik.(ckh)\n",
    "\n",
    "# Reconstruction sans bruit\n",
    "# Essayer avec différentes valeurs de filtrage. Par exemple avec gaussian et f0w=80 puis f0w=40 \n",
    "uTik=real.(ifft(cky.*ckTik))\n",
    "plot(Gray.(uTik),showaxis=false)"
   ]
  },
  {
   "cell_type": "code",
   "execution_count": null,
   "metadata": {},
   "outputs": [],
   "source": [
    "# Idem avec du bruit\n",
    "uBruitTik=real.(ifft(fft(yBruit).*ckTik))\n",
    "display(plot(Gray.(uBruitTik),showaxis=false))\n",
    "display(plot(Gray.(yBruit),showaxis=false)) # Décommenter pour comparer"
   ]
  },
  {
   "cell_type": "markdown",
   "metadata": {},
   "source": [
    "## IV. Troncature spectrale\n",
    "\n",
    "\n",
    "On veut utiliser la troncature spectrale.\n",
    "$$ c_k(u) = \\begin{cases}\\frac{1}{c_k(h)}c_k(y)& \\mbox{si $k \\in K$,}\\\\ 0 & \\mbox{sinon.}  \\end{cases}$$\n",
    "\n",
    "Ici, en dimension 2, on n'a pas d'ordre naturel sur les fréquences, on ne va pas prendre les $N$ premières, mais plutôt on considèrera des ensembles de la forme\n",
    "\n",
    "$$ K= \\{k \\in \\mathbb{Z}^2 | \\|k\\|\\leq r \\}.$$"
   ]
  },
  {
   "cell_type": "markdown",
   "metadata": {},
   "source": [
    "**IV.1)** On fait la troncature spectrale en prenant une fréquence maximale inférieur à un certaine valeur:\n",
    "$$ K_{\\infty}(r) = \\{ k \\in \\mathbb{Z}^2 | |k_1|\\leq r, |k_2|\\leq r\\},$$"
   ]
  },
  {
   "cell_type": "code",
   "execution_count": null,
   "metadata": {},
   "outputs": [],
   "source": [
    "r=80.0\n",
    "ckTronc=zeros(ComplexF64,M,N)\n",
    "Finf=[max(abs(freqh[i]),abs(freqw[j])) for i in 1:M, j in 1:N]\n",
    "Kinf=findall(Finf .<=r)    # Ne pas oublier le \".\" pour tester la condition en chaque point\n",
    "ckTronc[Kinf] .= cky[Kinf]./(ckh[Kinf])\n",
    "uTronc=real.(ifft(ckTronc))\n",
    "plot(Gray.(uTronc),showaxis=false)"
   ]
  },
  {
   "cell_type": "code",
   "execution_count": null,
   "metadata": {},
   "outputs": [],
   "source": [
    "# Faire de même avec l'observation bruitée:\n",
    "ckTroncBruit=zeros(ComplexF64,M,N)\n",
    "# ckTroncBruit[Kinf] .=  # A COMPLETER\n",
    "uTroncBruit=real.(ifft(ckTroncBruit))\n",
    "plot(Gray.(uTroncBruit),showaxis=false)"
   ]
  },
  {
   "cell_type": "markdown",
   "metadata": {},
   "source": [
    "**IV.2)** On prend la norme euclidienne sur les fréquences:\n",
    "$$ K_{2}(r) = \\{ k \\in \\mathbb{Z}^2 | |k_1|^2+|k_2|^2\\leq r^2\\}.$$"
   ]
  },
  {
   "cell_type": "code",
   "execution_count": null,
   "metadata": {},
   "outputs": [],
   "source": [
    "r=80.0\n",
    "ckTronc=zeros(ComplexF64,M,N)\n",
    "# F2=  # A COMPLETER\n",
    "K2=findall(F2 .<=r^2)    # Ne pas oublier le \".\" pour tester la condition en chaque point\n",
    "ckTronc[K2] .= cky[K2]./(ckh[K2])\n",
    "uTronc=real.(ifft(ckTronc))\n",
    "plot(Gray.(uTronc),showaxis=false)"
   ]
  },
  {
   "cell_type": "code",
   "execution_count": null,
   "metadata": {},
   "outputs": [],
   "source": [
    "# Faire de même avec l'observation bruitée:\n",
    "ckTroncBruit=zeros(ComplexF64,M,N)\n",
    "# ckTroncBruit[K2] .=  # A COMPLETER\n",
    "uTroncBruit=real.(ifft(ckTroncBruit))\n",
    "plot(Gray.(uTroncBruit),showaxis=false)"
   ]
  },
  {
   "cell_type": "markdown",
   "metadata": {},
   "source": [
    "## V. Régularisation par norme de Sobolev"
   ]
  },
  {
   "cell_type": "markdown",
   "metadata": {},
   "source": [
    "On considère à la place une autre régularisation pour Tikhonov,\n",
    "\n",
    "$$ \\min_u \\frac{\\lambda}{2}\\|Du\\|_{\\ell^2}^2 + \\frac{1}{2}\\|Au-y\\|^2$$\n",
    "où $D$ est un opérateur de gradient discret (avec conditions de bord périodiques, pour simplifier):\n",
    "$$\\forall j \\in \\{1,\\ldots,N\\},\\quad(Du)_{i,j,1}=\\frac{1}{M}\\times\\begin{cases} u_{i+1,j}-u_{i,j} &\\mbox{pour $1\\leq i \\leq M-1$}, \\\\\n",
    "                u_{1,j}-u_{M,j} &\\mbox{pour $i=M$}.\\end{cases}\n",
    "                $$\n",
    "$$\\forall i \\in \\{1,\\ldots,M\\},\\quad (Du)_{i,j,2}=\\frac{1}{N}\\times\\begin{cases} u_{i,j+1}-u_{i,j} &\\mbox{pour  $1\\leq j \\leq N-1$, } \\\\\n",
    "                u_{i,1}-u_{i,N} &\\mbox{pour $j=N$.}\\end{cases}\n",
    "                $$"
   ]
  },
  {
   "cell_type": "markdown",
   "metadata": {},
   "source": [
    "**V.0) [à faire à la maison, hors TP]** Montrer que le terme de régularisation $\\|Du\\|_{\\ell^2}^2=\\sum_{i,j}\\left[ ((Du)_{i,j,1})^2+((Du)_{i,j,2})^2 \\right]$ peut se réécrire dans le domaine de la transformée Fourier discrète (en écrivant $k=(k_1,k_2))$:\n",
    "$$\\|Du\\|_{\\ell^2}^2= 4\\sum_{\\substack{0\\leq k_1\\leq M-1\\\\0\\leq k_2\\leq N}} |c_k|^2\\alpha_k^2$$\n",
    "\n",
    "où \n",
    "$$\\alpha_k^2= M^2\\sin^2\\left(\\frac{k_1\\pi}{M}\\right)+N^2\\sin^2\\left(\\frac{k_2\\pi}{N}\\right). $$\n"
   ]
  },
  {
   "cell_type": "markdown",
   "metadata": {},
   "source": [
    "**V.1)** En déduire que les solutions du problème de régularisation sont données par:\n",
    "$$c_k(u) =\\frac{c_k(h)}{4\\lambda\\alpha_k^2 + |c_k(h)|^2}c_k(y).$$"
   ]
  },
  {
   "cell_type": "code",
   "execution_count": null,
   "metadata": {},
   "outputs": [],
   "source": [
    "lambda=0.000001\n",
    "\n",
    "\n",
    "alpha2=[(M*sin(fh/M))^2 + (N*sin(fw/N))^2 for fh in freqh, fw in freqw]\n",
    "\n",
    "# gTik(x)=  # A COMPLETER= gTik.(ckh)\n",
    "ckSob= ckh./(4*lambda*alpha2 .+ abs2.(ckh)) # TODO ICI\n",
    "# Reconstruction sans bruit\n",
    "# Essayer avec différentes valeurs de filtrage. Par exemple avec gaussian et f0w=80 puis f0w=40 \n",
    "uSob=real.(ifft(cky.*ckSob))\n",
    "plot(Gray.(uSob),showaxis=false)"
   ]
  },
  {
   "cell_type": "code",
   "execution_count": null,
   "metadata": {},
   "outputs": [],
   "source": [
    "uSobBruit=real.(ifft(ckyBruit.*ckSob))\n",
    "display(plot(Gray.(uSobBruit)))\n",
    "display(plot(Gray.(yBruit)))"
   ]
  },
  {
   "cell_type": "code",
   "execution_count": null,
   "metadata": {},
   "outputs": [],
   "source": []
  }
 ],
 "metadata": {
  "kernelspec": {
   "display_name": "Julia 1.3.1",
   "language": "julia",
   "name": "julia-1.3"
  },
  "language_info": {
   "file_extension": ".jl",
   "mimetype": "application/julia",
   "name": "julia",
   "version": "1.3.1"
  }
 },
 "nbformat": 4,
 "nbformat_minor": 4
}
