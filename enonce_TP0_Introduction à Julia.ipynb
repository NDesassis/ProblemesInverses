{
 "cells": [
  {
   "cell_type": "markdown",
   "metadata": {},
   "source": [
    "# TP - ES Problèmes inverses\n",
    "\n",
    "Vincent Duval, Nicolas Desassis (à partir du TP en Matlab de Michel Kern)"
   ]
  },
  {
   "cell_type": "markdown",
   "metadata": {},
   "source": [
    "# Exercice 0 - Introduction à Julia"
   ]
  },
  {
   "cell_type": "markdown",
   "metadata": {},
   "source": [
    "Julia est un langage de programmation destiné au calcul scientifique. C'est un langage compilé à la volée qui est très rapide (sauf parfois à la première utilisation des fonctions car le système compile chaque fonction).\n",
    "Sa syntaxe est proche de MATLAB et python."
   ]
  },
  {
   "cell_type": "markdown",
   "metadata": {},
   "source": [
    "## Vecteurs et matrices\n",
    "Julia stocke les vecteurs et les matrices sous le type \"Array\""
   ]
  },
  {
   "cell_type": "code",
   "execution_count": null,
   "metadata": {},
   "outputs": [],
   "source": [
    "a=[1,5,4]"
   ]
  },
  {
   "cell_type": "markdown",
   "metadata": {},
   "source": [
    "**Remarque:** Les indices commencent à 1:"
   ]
  },
  {
   "cell_type": "code",
   "execution_count": null,
   "metadata": {},
   "outputs": [],
   "source": [
    "a[1]"
   ]
  },
  {
   "cell_type": "code",
   "execution_count": null,
   "metadata": {},
   "outputs": [],
   "source": [
    "a[end]"
   ]
  },
  {
   "cell_type": "code",
   "execution_count": null,
   "metadata": {},
   "outputs": [],
   "source": [
    "B=zeros(3,4) "
   ]
  },
  {
   "cell_type": "code",
   "execution_count": null,
   "metadata": {},
   "outputs": [],
   "source": [
    "B=rand(5,6) # coefficients suivant la loi uniforme sur [0,1], iid\n",
    "C=randn(2,5) # coefficients gaussiennes centrées réduites iid "
   ]
  },
  {
   "cell_type": "code",
   "execution_count": null,
   "metadata": {},
   "outputs": [],
   "source": [
    "D= [a+b for a in 1:10:30, b in 5:8]"
   ]
  },
  {
   "cell_type": "code",
   "execution_count": null,
   "metadata": {},
   "outputs": [],
   "source": [
    "sum(D)"
   ]
  },
  {
   "cell_type": "code",
   "execution_count": null,
   "metadata": {},
   "outputs": [],
   "source": [
    "sum(D,dims=1)"
   ]
  },
  {
   "cell_type": "markdown",
   "metadata": {},
   "source": [
    "Pour avoir de l'aide sur une fonction, utiliser \"?\""
   ]
  },
  {
   "cell_type": "code",
   "execution_count": null,
   "metadata": {},
   "outputs": [],
   "source": [
    "?for"
   ]
  },
  {
   "cell_type": "markdown",
   "metadata": {},
   "source": [
    "## Fonctions\n",
    "\n",
    "On définit des fonctions de la manière suivante"
   ]
  },
  {
   "cell_type": "code",
   "execution_count": null,
   "metadata": {},
   "outputs": [],
   "source": [
    "f(x)=x^2\n",
    "\n",
    "function g(x,y,z=0)\n",
    "    S=x+y+z   \n",
    "    println(\"Voici la fonction g\")\n",
    "    return S\n",
    "end"
   ]
  },
  {
   "cell_type": "code",
   "execution_count": null,
   "metadata": {},
   "outputs": [],
   "source": [
    "f(2)"
   ]
  },
  {
   "cell_type": "code",
   "execution_count": null,
   "metadata": {},
   "outputs": [],
   "source": [
    "g(1,5)"
   ]
  },
  {
   "cell_type": "code",
   "execution_count": null,
   "metadata": {},
   "outputs": [],
   "source": [
    "g(3,4,5)"
   ]
  },
  {
   "cell_type": "markdown",
   "metadata": {},
   "source": [
    "Pour appliquer une fonction terme à terme sur un vecteur, on utilise lui ajoute un \".\" :"
   ]
  },
  {
   "cell_type": "code",
   "execution_count": null,
   "metadata": {},
   "outputs": [],
   "source": [
    "a=[1,2,3,4,5]\n",
    "f.(a)"
   ]
  },
  {
   "cell_type": "code",
   "execution_count": null,
   "metadata": {},
   "outputs": [],
   "source": [
    "b=a .+10"
   ]
  },
  {
   "cell_type": "code",
   "execution_count": null,
   "metadata": {},
   "outputs": [],
   "source": [
    "A=[0 1 2;1 0 1; 2 1 0]; display(A)\n",
    "#Attention, noter la différence entre les commandes suivantes!! \n",
    "B=exp(A); display(B)\n",
    "C=exp.(A);display(C)"
   ]
  },
  {
   "cell_type": "markdown",
   "metadata": {},
   "source": [
    "## Affichage de courbes"
   ]
  },
  {
   "cell_type": "code",
   "execution_count": null,
   "metadata": {},
   "outputs": [],
   "source": [
    "using Plots # A faire une fois pour charger le package d'affichage. Voir ci-dessous si le paquet n'est pas encore installé.\n",
    "tvec=-5:0.1:5\n",
    "plot(tvec,cosh.(tvec),label=\"Cosinus hyperbolique\")\n",
    "plot!(tvec,sinh,label=\"Sinus Hyperbolique\") # pour ajouter une courbe sur un affichage existant utiliser un point d'exclamation"
   ]
  },
  {
   "cell_type": "code",
   "execution_count": null,
   "metadata": {},
   "outputs": [],
   "source": [
    "# Pour afficher un plot qui n'est pas la dernière commande, le précéder de display\n",
    "display(plot(tvec,tanh,xlabel=\"abscisse\",ylabel=\"ordonnée\"))\n",
    "display(plot(tvec,atan,xlabel=\"abscisse\",ylabel=\"ordonnée\")) "
   ]
  },
  {
   "cell_type": "markdown",
   "metadata": {},
   "source": [
    "## Installation des paquets requis\n",
    "\n",
    "<a id='section_id2'></a>\n"
   ]
  },
  {
   "cell_type": "markdown",
   "metadata": {},
   "source": [
    "Julia dispose d'un système de paquets. Il va falloir installer les paquets nécessaires au TP.\n",
    "Cela peut être réalisé en ligne de commande.\n",
    "Si les packages sont déjà installés, ne pas exécuter les lignes ci-dessous."
   ]
  },
  {
   "cell_type": "code",
   "execution_count": null,
   "metadata": {},
   "outputs": [],
   "source": [
    "using Pkg #chargement de l'utilitaire de packages\n",
    "#Pkg.add(\"Plots\")\n",
    "#Pkg.add(\"Images\")\n",
    "#Pkg.add(\"TestImages\")\n",
    "#Pkg.add(\"Printf\")\n",
    "#Pkg.add(\"StatsBase\")\n",
    "#Pkg.add(\"LaTeXStrings\")\n",
    "#Pkg.add(\"Optim\")\n",
    "#Pkg.add(\"Dierckx\")\n",
    "#Pkg.add(\"DSP\")"
   ]
  },
  {
   "cell_type": "code",
   "execution_count": null,
   "metadata": {},
   "outputs": [],
   "source": []
  }
 ],
 "metadata": {
  "kernelspec": {
   "display_name": "Julia 1.5.3",
   "language": "julia",
   "name": "julia-1.5"
  },
  "language_info": {
   "file_extension": ".jl",
   "mimetype": "application/julia",
   "name": "julia",
   "version": "1.5.4"
  }
 },
 "nbformat": 4,
 "nbformat_minor": 4
}
