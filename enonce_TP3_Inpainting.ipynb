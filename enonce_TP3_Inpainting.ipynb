{
 "cells": [
  {
   "cell_type": "markdown",
   "metadata": {},
   "source": [
    "# TP - ES Problèmes inverses\n",
    "\n",
    "Vincent Duval, Nicolas Desassis"
   ]
  },
  {
   "cell_type": "markdown",
   "metadata": {},
   "source": [
    "## Exercice 3 - le problème des pixels manquants (inpainting)\n",
    "On reprend l'exercice vu en TD pour expérimenter."
   ]
  },
  {
   "cell_type": "markdown",
   "metadata": {},
   "source": [
    "using Images, Plots, TestImages,Printf\n",
    "using StatsBase"
   ]
  },
  {
   "cell_type": "code",
   "execution_count": null,
   "metadata": {},
   "outputs": [],
   "source": [
    "img=Float32.(Gray.(testimage(\"coffee\"))) # house,coffee, chelsea\n",
    "plot(Gray.(img),title=\"Image originale\")"
   ]
  },
  {
   "cell_type": "code",
   "execution_count": null,
   "metadata": {},
   "outputs": [],
   "source": [
    "nb=length(img) # Nombre de pixels\n",
    "tauxpix=10 # pourcentage de pixels morts  (A MODIFIER)\n",
    "nd=Int(round(nb*tauxpix/100)) # Nombre de pixels morts\n",
    "\n",
    "#Tire une sous-selection aléatoire\n",
    "I=1:nb\n",
    "J=sample(I,nd;replace=false) # Indices des pixels morts\n",
    "K=[j for j in 1:nb if j ∉ J ] # Indices des pixels vivants\n",
    "\n",
    "y=img[K] # Observation\n",
    "display(@sprintf(\"Nombre total de pixels: %d\",nb))\n",
    "display(@sprintf(\"Nombre de pixels manquants: %d (%.2f %%)\",nd,tauxpix))"
   ]
  },
  {
   "cell_type": "markdown",
   "metadata": {},
   "source": [
    "## Solution de norme $\\ell^2$ minimale\n",
    "\n",
    "On résout $$u_0 =\\mathrm{argmin}_u \\|u\\|_{\\ell^2} \\quad \\mbox{s.c.}\\quad Au=y$$"
   ]
  },
  {
   "cell_type": "code",
   "execution_count": null,
   "metadata": {},
   "outputs": [],
   "source": [
    "# Solution de norme minimale\n",
    "u0=copy(img)\n",
    "u0[J].=0.\n",
    "plot(Gray.(u0))"
   ]
  },
  {
   "cell_type": "code",
   "execution_count": null,
   "metadata": {},
   "outputs": [],
   "source": [
    "function proj_affine!(u,y,K)\n",
    "    # Projette orthogonalement sur l'espace Au=y\n",
    "    # Attention: cette fonction modifie son premier argument\n",
    "    u[K].=y\n",
    "end"
   ]
  },
  {
   "cell_type": "markdown",
   "metadata": {},
   "source": [
    "## Régularisation par norme de Sobolev\n",
    "\n",
    "On considère à la place une autre régularisation pour choisir la solution\n",
    "$$ u_1=\\mathrm{argmin}_u \\frac{1}{2}\\|Du\\|_{\\ell^2}^2 \\quad \\mbox{s.c.}\\quad Au=y$$\n",
    "où $D$ est un opérateur de gradient (avec conditions de bord périodiques, pour simplifier):\n",
    "$$\\forall j \\in \\{1,\\ldots,N\\},\\quad(Du)_{i,j,1}=\\begin{cases} u_{i+1,j}-u_{i,j} &\\mbox{pour $1\\leq i \\leq M-1$}, \\\\\n",
    "                u_{1,j}-u_{M,j} &\\mbox{pour $i=M$}.\\end{cases}\n",
    "                $$\n",
    "$$\\forall i \\in \\{1,\\ldots,M\\},\\quad (Du)_{i,j,2}=\\begin{cases} u_{i,j+1}-u_{i,j} &\\mbox{pour  $1\\leq j \\leq N-1$, } \\\\\n",
    "                u_{i,1}-u_{i,N} &\\mbox{pour $j=N$.}\\end{cases}\n",
    "                $$\n"
   ]
  },
  {
   "cell_type": "markdown",
   "metadata": {},
   "source": [
    "On veut résoudre ce problème de variation par la méthode de gradient projeté:\n",
    "\n",
    "$$ u_{k+1} = P_C\\left(u_k-\\tau D^*Du_k\\right)$$\n",
    "\n",
    "où l'ensemble des points admissibles est $C=\\{u \\in\\mathbb{R}^{MN} | Au =y \\}$."
   ]
  },
  {
   "cell_type": "code",
   "execution_count": null,
   "metadata": {},
   "outputs": [],
   "source": [
    "# Quelques fonctions auxiliaires (évaluer la cellule pour les charger)\n",
    "\n",
    "function applyD!(Du,u)\n",
    "    \"\"\"\n",
    "    Opérateur de gradient avec conditions de bord périodiques\n",
    "    Attention: cette fonction modifie son premier argument\n",
    "    \"\"\"\n",
    "    (M,N)=size(u)\n",
    "    fill!(Du,zero(eltype(Du))) # remise à zéro de Du\n",
    "    #Premier argument\n",
    "   for j in  1:N\n",
    "        for i in 1:M-1\n",
    "           Du[i,j,1]=u[i+1,j]-u[i,j] \n",
    "        end \n",
    "        Du[M,j,1]=u[1,j]-u[M,j]\n",
    "    end\n",
    "    \n",
    "    # Deuxième argument \n",
    "    for j in 1:N-1\n",
    "        for i in 1:M\n",
    "            Du[i,j,2]=u[i,j+1]-u[i,j]\n",
    "        end\n",
    "    end\n",
    "    for i in 1:M\n",
    "       Du[i,N,2]=u[i,1]-u[i,N] \n",
    "    end\n",
    "end\n",
    "\n",
    "function applyDstar!(Dsv,v)\n",
    "    \"\"\"\n",
    "    Calcul de l'adjoint de D.\n",
    "    Attention: cette fonction modifie son premier argument\n",
    "    \"\"\"\n",
    "    # Typiquement v=Du\n",
    "    (M,N,P)=size(v)\n",
    "    fill!(Dsv,zero(eltype(Dsv))) # remise à zéro de Dsv\n",
    "    \n",
    "    for j in  1:N\n",
    "        for i in 2:M\n",
    "                Dsv[i,j] += v[i-1,j,1]-v[i,j,1] # l'opérateur += ajoute le membre de droite à celui de gauche\n",
    "        end\n",
    "        Dsv[1,j] +=v[M,j,1]-v[1,j,1]\n",
    "    end\n",
    "    \n",
    "    for j in 2:N\n",
    "        for i in 1:M\n",
    "            Dsv[i,j] += v[i,j-1,2]-v[i,j,2]\n",
    "        end\n",
    "    end\n",
    "    for i in 1:M\n",
    "       Dsv[i,1] += v[i,N,2]-v[i,1,2] \n",
    "    end\n",
    "    \n",
    "end\n",
    "\n",
    "# test de l'adjoint (A faire une fois pour toute mais C'EST IMPORTANT pour valider que le calcul de l'adjoint est correct)\n",
    "# On vérifie la formule de l'adjoint sur (attention aux overflows: on prend de petits entiers)\n",
    "(n1,n2)=5,7\n",
    "t=rand(1:255,n1,n2)\n",
    "Dt=zeros(Int,n1,n2,2)\n",
    "applyD!(Dt,t)\n",
    "v=rand(1:255,n1,n2,2)\n",
    "Dsv=zeros(size(t))\n",
    "applyDstar!(Dsv,v)\n",
    "\n",
    "abs(sum(Dsv.*t)-sum(v.*Dt))"
   ]
  },
  {
   "cell_type": "code",
   "execution_count": null,
   "metadata": {},
   "outputs": [],
   "source": [
    "#Descente de gradient projeté (COMPLETER L'ALGORITHME CI-DESSOUS)\n",
    "tau=0.01\n",
    "nbiter=800\n",
    "u=zeros(size(img))\n",
    "Du=zeros(size(u)...,2)\n",
    "DsDu=zeros(size(u))\n",
    "nrj=zeros(nbiter)\n",
    "for k in 1:nbiter\n",
    "    applyD!(Du,u) # Du\n",
    "    applyDstar!(DsDu,Du) # D*(Du)\n",
    "    # u.=   # descente de gradient A COMPLETER\n",
    "    proj_affine!(u,y,K) # projection sur la contrainte\n",
    "    \n",
    "    #Calcul de l'énergie\n",
    "    applyD!(Du,u) # Du\n",
    "    nrj[k]=sum(Du.^2)/2\n",
    "end\n",
    "plot(1:nbiter,nrj,xlabel=\"Itérations\",ylabel=\"Energie\")"
   ]
  },
  {
   "cell_type": "code",
   "execution_count": null,
   "metadata": {},
   "outputs": [],
   "source": [
    "p0=plot(Gray.(u0),xlabel=\"Norme minimale\")\n",
    "p1=plot(Gray.(u),xlabel=\"Image reconstruite\")\n",
    "p2=plot(Gray.(img),xlabel=\"Image originale\")\n",
    "p3=plot(Gray.(u),xlabel=\"Image reconstruite\")\n",
    "plot(p0,p1,p2,p3,size=(1000,1000))"
   ]
  },
  {
   "cell_type": "code",
   "execution_count": null,
   "metadata": {},
   "outputs": [],
   "source": []
  }
 ],
 "metadata": {
  "kernelspec": {
   "display_name": "Julia 1.5.3",
   "language": "julia",
   "name": "julia-1.5"
  },
  "language_info": {
   "file_extension": ".jl",
   "mimetype": "application/julia",
   "name": "julia",
   "version": "1.5.4"
  }
 },
 "nbformat": 4,
 "nbformat_minor": 4
}
