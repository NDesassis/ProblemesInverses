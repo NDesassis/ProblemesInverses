{
 "cells": [
  {
   "cell_type": "code",
   "execution_count": null,
   "id": "b2ab5173",
   "metadata": {},
   "outputs": [],
   "source": [
    "using Plots,StatsBase, ImageFiltering, LinearAlgebra"
   ]
  },
  {
   "cell_type": "markdown",
   "id": "15b3968c",
   "metadata": {},
   "source": [
    "# LASSO\n",
    "\n",
    "On veut reconstruire le vecteur $x$ par la méthode du LASSO:\n",
    "$$ \\min_x \\lambda\\|x\\|_1 +\\frac{1}{2} \\|Ax-y\\|^2$$\n",
    "\n",
    "On prendra d'abord une matrice d'observation $A$ aléatoire:"
   ]
  },
  {
   "cell_type": "code",
   "execution_count": null,
   "id": "619f253c",
   "metadata": {},
   "outputs": [],
   "source": [
    "# Observation: matrice aléatoire\n",
    "m=30 # nombre de mesures\n",
    "n=100 # taille de l'inconnue\n",
    "A=randn(m,n)\n",
    "σ=0.0\n",
    "b=σ*randn(m)/sqrt(m);\n"
   ]
  },
  {
   "cell_type": "markdown",
   "id": "75feeb8b",
   "metadata": {},
   "source": [
    "## Signal parcimonieux\n",
    "On considère d'abord $x_0$ un signal $k$-parcimonieux, c'est-à-dire avec au plus $k$ composantes non nulles."
   ]
  },
  {
   "cell_type": "code",
   "execution_count": null,
   "id": "dafd11d0",
   "metadata": {},
   "outputs": [],
   "source": [
    "x0=zeros(n)\n",
    "k=5 # nombre de composantes non nulles\n",
    "I=1:n\n",
    "J=sample(I,k;replace=false)\n",
    "x0[J].=randn(k)\n",
    "x0./=norm(x0) # on le normalise pour avoir la norme euclidienne 1\n",
    "\n",
    "# Observation\n",
    "y=A*x0+b\n",
    "\n",
    "plot(x0,line=:stem,marker=:circle,label=\"Signal original\")"
   ]
  },
  {
   "cell_type": "markdown",
   "id": "815c5eb3",
   "metadata": {},
   "source": [
    "Nous allons utiliser l'algorithme ISTA pour minimiser cette fonctionnelle.\n",
    "$$\t\t\t\t\tx^{(k+1)} = S_{\\lambda \\tau} \\left(x^{(k)} - \\tau A^*(Ax^{(k)}-y)\\right).$$\n",
    "où \n",
    "$$ S_{\\lambda\\tau}(z_i) =\n",
    "\t\\begin{cases}\n",
    "\t\tz_i-\\lambda \\tau & \\mbox{si } z_i>\\lambda \\tau\\\\\n",
    "\t\t0 & \\mbox{si } -\\lambda\\tau\\leq z_i\\leq \\lambda \\tau\\\\\n",
    "\t\tz_i+\\lambda \\tau & \\mbox{si } z_i<-\\lambda \\tau\n",
    "\t\\end{cases}$$\n",
    "   \n",
    "On peut montrer que cet algorithme converge pour $0<\\tau<\\frac{2}{(\\sigma_1(A))^2}$\n",
    "    "
   ]
  },
  {
   "cell_type": "code",
   "execution_count": null,
   "id": "b9c956d9",
   "metadata": {},
   "outputs": [],
   "source": [
    "# Algorithme ISTA (Iterated Soft Thresholding Algorithm)\n",
    "\"\"\"\n",
    "    fwbackward(A,λ,τ,niter,xinit=zeros(size(A,2)))\n",
    "Applique l'algorithme ISTA avec l'opérateur A donné comme une matrice.\n",
    "On cherche à résoudre\n",
    "min λ||x||_1 +1/2 |Ax-y|^2\n",
    "\n",
    "tau : pas de la descente de gradient (forward)\n",
    "niter: nombre d'itérations\n",
    "\"\"\"\n",
    "function fwbackward(A,y,λ,τ,niter,xinit=zeros(size(A,2)))\n",
    "    x=copy(xinit)\n",
    "    for k=1:niter\n",
    "        x= soft_thresh.(x-τ*A'*(A*x-y),λ*τ)\n",
    "    end\n",
    "    return x\n",
    "end\n",
    "\n",
    "function soft_thresh(c,seuil)\n",
    "    return (sign(c)*max(abs(c)-seuil,0.)) \n",
    "end    "
   ]
  },
  {
   "cell_type": "markdown",
   "id": "9da9b436",
   "metadata": {},
   "source": [
    "1. Compléter ci-dessous les paramètres de l'algorithme. Essayer des reconstructions avec différents niveaux de bruit $\\sigma$ et différents paramètres de régularisation $\\lambda$."
   ]
  },
  {
   "cell_type": "code",
   "execution_count": null,
   "id": "451081b6",
   "metadata": {},
   "outputs": [],
   "source": [
    "normA= opnorm(A,2) # Plus grande valeur singulière\n",
    "#tau= # A COMPLETER\n",
    "λ=1.0\n",
    "#Calcul de la norme d'operateur\n",
    "xrec=fwbackward(A,y,λ,tau,10000)\n",
    "\n",
    "# erreur relative\n",
    "print(\"Erreur relative: \")\n",
    "println(norm(xrec-x0)/norm(x0))"
   ]
  },
  {
   "cell_type": "code",
   "execution_count": null,
   "id": "e940b703",
   "metadata": {},
   "outputs": [],
   "source": [
    "plot(x0,line=:stem,marker=:circle,label=\"Signal original\")\n",
    "plot!(xrec,line=:stem,marker=:circle,label=\"Reconstruction\")\n",
    "#plot!(xrecbis,line=:stem,marker=:circle,label=\"Reconstruction\")"
   ]
  },
  {
   "cell_type": "markdown",
   "id": "a1bfddf2",
   "metadata": {},
   "source": [
    "## Vecteur non parcimonieux\n",
    "\n",
    "On souhaite mainenant comparer la performanace de reconstruction avec un vecteur qui n'est pas du tout parcimonieux.\n",
    "\n",
    "2. Appliquer l'algorithme de forward-backward pour effectuer la reconstruction d'un signal non parcimonieux. Commenter."
   ]
  },
  {
   "cell_type": "code",
   "execution_count": null,
   "id": "0d2918eb",
   "metadata": {},
   "outputs": [],
   "source": [
    "x0bis=randn(n)\n",
    "x0bis./=norm(x0bis) # on le normalise pour avoir la norme euclidienne 1\n",
    "\n",
    "# Observation (on garde le même bruit)\n",
    "ybis=A*x0bis+b\n",
    "\n",
    "plot(x0bis,line=:stem,marker=:circle,label=\"Signal original\")"
   ]
  },
  {
   "cell_type": "code",
   "execution_count": null,
   "id": "3d4103d8",
   "metadata": {},
   "outputs": [],
   "source": [
    "# xrecbis= # A COMPLETER\n",
    "\n",
    "# erreur relative\n",
    "print(\"Erreur relative: \")\n",
    "println(norm(xrecbis-x0bis)/norm(x0bis))"
   ]
  },
  {
   "cell_type": "code",
   "execution_count": null,
   "id": "a504c390",
   "metadata": {},
   "outputs": [],
   "source": [
    "plot(x0bis,line=:stem,marker=:circle,label=\"Signal original\")\n",
    "plot!(xrecbis,line=:stem,marker=:circle,label=\"Reconstruction\")"
   ]
  },
  {
   "cell_type": "markdown",
   "id": "0d491fef",
   "metadata": {},
   "source": [
    "## Problème de déconvolution\n",
    "\n",
    "On va maintenant changer d'opérateur $A$.\n",
    "On veut résoudre le problème de déconvolution\n",
    "$$y=Ax+b \\quad \\mbox{où} \\quad(Ax)(s)=\\int h(t)x(s-t) dt  $$\n",
    "et $h$ est la réponse impulsionnelle et $b$ est un bruit. Typiquement $h$ est un flou gaussien: $h(t)=e^{-\\frac{t^2}{2\\sigma^2}}$.\n",
    "\n",
    "Plutôt que d'écrire la matrice de la convolution, on va donner des fonctions qui appliquent $A$ et $A^\\top$ à un vecteur.\n"
   ]
  },
  {
   "cell_type": "code",
   "execution_count": null,
   "id": "bb2c0d99",
   "metadata": {},
   "outputs": [],
   "source": [
    "largeur=1.0 # largeur de la gaussienne\n",
    "h = ImageFiltering.Kernel.gaussian((largeur,))\n",
    "\n",
    "\n",
    "\"\"\"\n",
    "    function applyA!(z,x)\n",
    "Applique l'opérateur A (convolution) au vecteur x et le stocke dans le vecteur z\n",
    "\n",
    "ATTENTION: on effectue juste un corrélation (on suppose que h est symétrique)\n",
    "\n",
    "ATTENTION; cette fonction modifie son premier argument\n",
    "\"\"\"\n",
    "function applyA!(z,x)\n",
    "    global h\n",
    "    imfilter!(z,x, reflect(h),\"circular\") # Filtrage avec cdt de periodicite\n",
    "end\n",
    "\n",
    "function applyA(x)\n",
    "    z=zeros(size(x))\n",
    "    applyA!(z,x)\n",
    "    return z\n",
    "end\n",
    "\n",
    "\n",
    "\"\"\"\n",
    "    function applyAstar!(z,x)\n",
    "Applique l'opérateur A (convolution) au vecteur x et le stocke dans le vecteur z\n",
    "\n",
    "ATTENTION: on effectue juste un corrélation (on suppose que h est symétrique)\n",
    "\"\"\"\n",
    "function applyAstar!(vec,z)\n",
    "    global h\n",
    "    imfilter!(vec,z, h,\"circular\") # Filtrage avec cdt de periodicite\n",
    "    #global A\n",
    "    #vec.=A'*z\n",
    "end\n",
    "\n",
    "function applyAstar(x)\n",
    "    z=zeros(size(x))\n",
    "    applyAstar!(z,x)\n",
    "    return z\n",
    "end\n",
    "\n",
    "\"\"\"\n",
    "    fwbackward(applyA!,applyAstar!,λ,τ,niter,xinit=zeros(size(A,2)))\n",
    "Applique l'algorithme ISTA avec l'opérateur A donné à travers les fonctions applyA et applyAstar.\n",
    "On cherche à résoudre\n",
    "min λ||x||_1 +1/2 |Ax-y|^2\n",
    "\n",
    "tau : pas de la descente de gradient (forward)\n",
    "niter: nombre d'itérations\n",
    "\"\"\"\n",
    "function fwbackward(applyA!,applyAstar!,y,λ,τ,niter,xinit)\n",
    "    x=copy(xinit)\n",
    "    z=zeros(size(y))\n",
    "    vec=zeros(size(xinit))\n",
    "    \n",
    "    for k=1:niter\n",
    "        applyA!(z,x) # z=Ax\n",
    "        z.-=y # z=Ax-y\n",
    "        applyAstar!(vec,z) # vec=A'*(A*x-y)\n",
    "        x.= x .-τ*vec\n",
    "        x.=soft_thresh.(x,λ*τ)\n",
    "    end\n",
    "    return x\n",
    "end\n",
    "    \n",
    " "
   ]
  },
  {
   "cell_type": "code",
   "execution_count": null,
   "id": "e633d5b4",
   "metadata": {},
   "outputs": [],
   "source": [
    "# Observation\n",
    "m=100 # nombre de mesures\n",
    "n=100 # taille de l'inconnue (on ne fait pas de sous-échantillonnage, pour simplifier)\n",
    "σ=0.0\n",
    "b=σ*randn(m)/sqrt(m);\n",
    "\n",
    "\n",
    "x0=zeros(n)\n",
    "x0[1]=1\n",
    "k=5 # nombre de composantes non nulles\n",
    "I=1:n\n",
    "J=sample(I,k;replace=false)\n",
    "x0[J].=randn(k)\n",
    "x0./=norm(x0) # on le normalise pour avoir la norme euclidienne 1\n",
    "\n",
    "# Observation\n",
    "y=applyA(x0)+b\n",
    "\n",
    "plot(x0,line=:stem,marker=:circle,label=\"Signal original\")\n",
    "plot!(y,line=:stem,marker=:circle,label=\"Observation\")"
   ]
  },
  {
   "cell_type": "markdown",
   "id": "a34a6249",
   "metadata": {},
   "source": [
    "3. On peut montrer que la norme d'un opérateur de convolution est égale à $\\|h\\|_1$. Compléter les paramètres de l'algorithme."
   ]
  },
  {
   "cell_type": "code",
   "execution_count": null,
   "id": "21cb62ae",
   "metadata": {
    "scrolled": true
   },
   "outputs": [],
   "source": [
    "#normA=  # A COMPLETER\n",
    "#tau= # A COMPLETER\n",
    "λ=0.01\n",
    "\n",
    "xrec=fwbackward(applyA!,applyAstar!,y,λ,tau,10000,zeros(n))\n",
    "#xrec2=fwbackward(A,y,λ,tau,10000)"
   ]
  },
  {
   "cell_type": "code",
   "execution_count": null,
   "id": "75c3bf96",
   "metadata": {
    "scrolled": true
   },
   "outputs": [],
   "source": [
    "plot(x0,line=:stem,marker=:circle,label=\"Signal original\")\n",
    "plot!(xrec,line=:stem,marker=:circle,label=\"Reconstruction\")\n"
   ]
  },
  {
   "cell_type": "markdown",
   "id": "cadeebd2",
   "metadata": {},
   "source": [
    "3. Faire différents essais avec différents niveaux de bruit, différentes largeurs de gaussienne."
   ]
  },
  {
   "cell_type": "markdown",
   "id": "bbe9b13d",
   "metadata": {},
   "source": [
    "## Reconstruction des images\n",
    "On suppose maintenant qu'on veut retrouver des sources ponctuelles lumineuses."
   ]
  },
  {
   "cell_type": "code",
   "execution_count": null,
   "id": "268ddd37",
   "metadata": {},
   "outputs": [],
   "source": [
    "n=100\n",
    "img=zeros(n,n)\n",
    "k=5 # nombre de composantes non nulles\n",
    "I=1:n\n",
    "Jx=sample(I,k;replace=false)\n",
    "Jy=sample(I,k;replace=false)\n",
    "for (k,l) in zip(Jx,Jy)\n",
    "    img[k,l]=0.5*(1+rand())\n",
    "end\n",
    "img./=norm(img)\n",
    "plot(Gray.(img))"
   ]
  },
  {
   "cell_type": "code",
   "execution_count": null,
   "id": "0a36e12c",
   "metadata": {},
   "outputs": [],
   "source": [
    "# Opérateurs d'observation\n",
    "largeur=3.0 # largeur de la gaussienne\n",
    "h = ImageFiltering.Kernel.gaussian(largeur)\n",
    "\n",
    "\"\"\"\n",
    "    function applyA!(z,x)\n",
    "Applique l'opérateur A (convolution) au vecteur x et le stocke dans le vecteur z\n",
    "\n",
    "ATTENTION: on effectue juste un corrélation (on suppose que h est symétrique)\n",
    "\n",
    "ATTENTION; cette fonction modifie son premier argument\n",
    "\"\"\"\n",
    "function applyA!(z,x)\n",
    "    global h\n",
    "    imfilter!(z,x, reflect(h),\"reflect\") # Filtrage avec zero-padding\n",
    "end\n",
    "\n",
    "function applyA(x)\n",
    "    z=zeros(size(x))\n",
    "    applyA!(z,x)\n",
    "    return z\n",
    "end\n",
    "\n",
    "\n",
    "\"\"\"\n",
    "    function applyAstar!(z,x)\n",
    "Applique l'opérateur A (convolution) au vecteur x et le stocke dans le vecteur z\n",
    "\n",
    "ATTENTION: on effectue juste un corrélation (on suppose que h est symétrique)\n",
    "\"\"\"\n",
    "function applyAstar!(vec,z)\n",
    "    global h\n",
    "    imfilter!(vec,z, h,\"reflect\") # Filtrage avec cdt de periodicite\n",
    "    #global A\n",
    "    #vec.=A'*z\n",
    "end\n",
    "\n",
    "function applyAstar(x)\n",
    "    z=zeros(size(x))\n",
    "    applyAstar!(z,x)\n",
    "    return z\n",
    "end\n",
    "\n",
    "function soft_thresh(c,seuil)\n",
    "    return (sign(c)*max(abs(c)-seuil,0.)) \n",
    "end  \n",
    "\n",
    "\"\"\"\n",
    "    fwbackward(applyA!,applyAstar!,λ,τ,niter,xinit=zeros(size(A,2)))\n",
    "Applique l'algorithme ISTA avec l'opérateur A donné à travers les fonctions applyA et applyAstar.\n",
    "On cherche à résoudre\n",
    "min λ||x||_1 +1/2 |Ax-y|^2\n",
    "\n",
    "tau : pas de la descente de gradient (forward)\n",
    "niter: nombre d'itérations\n",
    "\"\"\"\n",
    "function fwbackward(applyA!,applyAstar!,y,λ,τ,niter,xinit)\n",
    "    x=copy(xinit)\n",
    "    z=zeros(size(y))\n",
    "    vec=zeros(size(xinit))\n",
    "    \n",
    "    for k=1:niter\n",
    "        applyA!(z,x) # z=Ax\n",
    "        z.-=y # z=Ax-y\n",
    "        applyAstar!(vec,z) # vec=A'*(A*x-y)\n",
    "        x.= x .-τ*vec\n",
    "        x.=soft_thresh.(x,λ*τ)\n",
    "    end\n",
    "    return x\n",
    "end\n",
    "    \n"
   ]
  },
  {
   "cell_type": "code",
   "execution_count": null,
   "id": "62589b29",
   "metadata": {},
   "outputs": [],
   "source": [
    "# Observation\n",
    "m=n\n",
    "σ=0.0\n",
    "b=σ*randn(m,m)/m;\n",
    "y=applyA(img)+b\n",
    "\n",
    "plot(Gray.(y./maximum(y)),title=\"Observation\")"
   ]
  },
  {
   "cell_type": "code",
   "execution_count": null,
   "id": "8068fcec",
   "metadata": {},
   "outputs": [],
   "source": [
    "# Reconstruction\n",
    "normA= sum(h) \n",
    "#tau= # A COMPLETER\n",
    "λ=0.001\n",
    "\n",
    "xrec=fwbackward(applyA!,applyAstar!,y,λ,tau,10000,zeros(n,n))\n",
    "display(plot(Gray.(img),title=\"Inconnue\"))\n",
    "display(plot(Gray.(xrec),title=\"Reconstruction\"))"
   ]
  },
  {
   "cell_type": "code",
   "execution_count": null,
   "id": "bb4b8fd6",
   "metadata": {},
   "outputs": [],
   "source": []
  }
 ],
 "metadata": {
  "kernelspec": {
   "display_name": "Julia 1.7.2",
   "language": "julia",
   "name": "julia-1.7"
  },
  "language_info": {
   "file_extension": ".jl",
   "mimetype": "application/julia",
   "name": "julia",
   "version": "1.7.2"
  }
 },
 "nbformat": 4,
 "nbformat_minor": 5
}
