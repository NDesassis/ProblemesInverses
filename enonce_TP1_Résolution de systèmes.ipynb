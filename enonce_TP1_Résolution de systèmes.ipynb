{
 "cells": [
  {
   "cell_type": "markdown",
   "metadata": {},
   "source": [
    "# TP - ES Problèmes inverses\n",
    "\n",
    "Vincent Duval, Nicolas Desassis (à partir du TP en Matlab de Michel Kern)"
   ]
  },
  {
   "cell_type": "markdown",
   "metadata": {},
   "source": [
    "Commencer par charger les différents packages nécessaires au TP."
   ]
  },
  {
   "cell_type": "code",
   "execution_count": null,
   "metadata": {},
   "outputs": [],
   "source": [
    "using Plots\n",
    "using LinearAlgebra"
   ]
  },
  {
   "cell_type": "markdown",
   "metadata": {},
   "source": [
    "## Exercice 1 (partie 1) - Méthodes de résolution de systèmes linéaires"
   ]
  },
  {
   "cell_type": "markdown",
   "metadata": {},
   "source": [
    "\n",
    "### A) Utilisation des équations normales\n",
    "La résolution d'un système linéaire $Ax=y$ au sens des moindres carrés, $$\\min_x \\frac{1}{2} \\|Ax-y \\|^2,$$ revient à résoudre les équations normales:\n",
    "$$ A^\\top (Ax-y)=0.$$\n",
    "\n",
    "Dans toute cette page, on supposera que la matrice $A$ est **injective**, de sorte que la solution des moindres carrés est unique (égale à la solution fournie par le pseudo-inverse, $A^\\dagger y$). \n",
    "\n",
    "On se propose d'utiliser les équations normales pour résoudre le système aux moindres carrés.\n",
    "\n",
    "\n",
    "#### A.1) Factorisation LU\n",
    "La méthode du pivot de Gauss permet de montrer le résultat suivant:\n",
    "\n",
    "**Théorème:** <em>Soit $B\\in \\mathcal{M}_{n\\times n}(\\mathbb{R})$. Il existe des matrices $P, L, U \\in \\mathcal{M}_{n\\times n}(\\mathbb{R})$ telles $B=PLU$ avec:</em>\n",
    "- <em>$P$ matrice de permutation,</em>\n",
    "- <em>$L$ matrice triangulaire inférieure.</em>\n",
    "- <em>$U$ une matrice triangulaire supérieure.</em>\n",
    "\n",
    "<em>Si de plus les matrices extraites $B_k=(b_{i,j})_{1\\leq i,j\\leq k}$ sont inversibles pour tout $k\\leq n$, alors on peut supposer $P=I$ et une telle décomposition est unique.\n",
    "Le nombre d'opérations (additions, multiplications, divisions) pour la calculer est de l'ordre de $(A,M,D)\\approx (n^3/3,n^3/3,n^2/2)$ opérations. On l'appelle **factorisation LU** de $B$.</em>\n",
    "\n",
    "#### A.2) Méthode de Cholesky\n",
    "\n",
    "\n",
    "\n",
    "**Théorème:** <em>Soit $B\\in \\mathcal{M}_{n\\times n}(\\mathbb{R})$ une matrice symétrique définie positive. Alors il existe une matrice triangulaire inférieure inversible $L\\in \\mathcal{M}_{n\\times n}(\\mathbb{R})$ telle que $B=L L^\\top$. Cette factorisation s'appelle __factorisation de Cholesky__, on peut la calculer en $O(n^3)$ opérations. Plus précisément le nombre d'opérations (additions, multiplications, divisions) est de l'ordre de $(A,M,D)\\approx (n^3/6,n^3/6, n^2/2)$ auquel s'ajoute $n$ extractions de racines carrées.</em>\n",
    "\n",
    "\n",
    "1. Décrire sur le papier une méthode pour calculer la solution des équations normales avec les factorisations LU et de Cholesky.  A-t-on plutôt intérêt à utiliser la méthode LU ou de Cholesky?\n",
    "\n",
    "2. Compléter le code suivant et essayer différentes valeurs de m et n ($m\\geq n$)"
   ]
  },
  {
   "cell_type": "code",
   "execution_count": null,
   "metadata": {},
   "outputs": [],
   "source": [
    "m,n= 15,14\n",
    "# On crée des matrices et vecteurs au hasard\n",
    "A=randn(m,n)\n",
    "x=randn(n) # notre inconnue (la vraie solution)\n",
    "y=A*x\n",
    "# Résoudre les équations normales\n",
    "B=A'*A\n",
    "\n",
    "function solve_LU(B,z)\n",
    "    Llu,Ulu=lu(B)\n",
    "    return Ulu\\(Llu\\z)\n",
    "end\n",
    "# Remarque: cholesky et LU n'ont pas la même matrice L!\n",
    "function solve_chol(B,z)\n",
    "    Lc=cholesky(B).L\n",
    "#    return  # COMPLETER\n",
    "\n",
    "end\n",
    "xlu=solve_LU(B,A'*y)\n",
    "xchol=solve_chol(B,A'*y)\n",
    "# Pour mesurer le temps\n",
    "#@time xlu=solve_LU(B,A'*y)\n",
    "#@time xchol=solve_chol(B,A'*y)\n",
    "\n",
    "\n",
    "print(\"Erreur avec la décomposition LU: \")\n",
    "println(norm(xlu-x)/norm(x))\n",
    "\n",
    "print(\"Erreur avec la décomposition de Cholesky: \")\n",
    "println(norm(xchol-x)/norm(x))"
   ]
  },
  {
   "cell_type": "markdown",
   "metadata": {},
   "source": [
    "3. En fait, **former la matrice $A^\\top A$ est instable numériquement**. \n",
    "Pour le comprendre on pourra comparer le conditionnement de $A^\\top A$ avec celui de (la restriction) de A à son image.\n",
    "Ou encore, on pourra considérer l'exemple suivant (cf  _Numerical methods for least squares problems_ de A. Bjorck)\n",
    "\n",
    "$$ A = \\begin{pmatrix}1 &1 &1\\\\ \\varepsilon & 0& 0\\\\ 0 & \\varepsilon &0 \\\\ 0 &0&\\varepsilon \\end{pmatrix} \\quad A^\\top A = \\begin{pmatrix}1+\\varepsilon^2 & 1 &1\\\\ 1 & 1+\\varepsilon^2&1\\\\ 1 &1&1+\\varepsilon^2 \\end{pmatrix} $$\n",
    "Si $\\varepsilon=10^{-4}$, que dire de la matrice $A^\\top A$?\n"
   ]
  },
  {
   "cell_type": "markdown",
   "metadata": {},
   "source": [
    "### Factorisation QR\n",
    "\n",
    "Nous allons proposer une méthode alternative, qui évite de former la matrice $A^\\top A$.\n",
    "\n",
    "**Théorème:** <em>Soit $A \\in \\mathcal{M}_{m\\times n}(\\mathbb{R})$ de rang $n$. Il existe une matrice orthogonale $Q\\in \\mathcal{M}_{m\\times m}(\\mathbb{R})$ et une matrice triangulaire $R\\in \\mathcal{M}_{n\\times n}(\\mathbb{R})$ inversible telles que $$ A = Q\\begin{pmatrix}R\\\\0 \\end{pmatrix}.$$\n",
    "On l'appelle __factorisation QR__ de la matrive $A$. On peut la calculer en $(2mn^2 - 2/3n^3)$ opérations en virgule flottante.</em>\n",
    "\n",
    "\n",
    "\n",
    "**Remarque:** Comparer avec la décomposition fournie par la méthode de Gram-Schmidt. En pratique ce n'est pas l'algorithme utilisé pour calculer la factorisation QR (elle est trop instable)!\n",
    "\n",
    "\n",
    "\n",
    "**4.** En utilisant une décomposition QR de $A$, écrire le système vérifié par la solution $x$ des moindres carrés.\n",
    "\n",
    "**5.** Compléter le code ci-dessous"
   ]
  },
  {
   "cell_type": "code",
   "execution_count": null,
   "metadata": {},
   "outputs": [],
   "source": [
    "m,n= 15,14\n",
    "# On crée des matrices et vecteurs au hasard\n",
    "A=randn(m,n)\n",
    "x=randn(n) # notre inconnue (la vraie solution)\n",
    "y=A*x\n",
    "# factorisation QR\n",
    "Q,R=qr(A);  \n",
    "#  xqr=   # COMPLETER\n",
    "print(\"Erreur avec la décomposition QR: \")\n",
    "println(norm(xqr-x)/norm(x))"
   ]
  },
  {
   "cell_type": "markdown",
   "metadata": {},
   "source": [
    "## Exercice 1 (partie 2) - Application au lissage polynômial – stabilité des méthodes pour les moindres carrés\n",
    "\n",
    "On cherche à approcher une fonction $f$ par un polynôme $x$ de degré donné. Il est connu que\n",
    "l’interpolation conduit à des oscillations de grande amplitude, et l’on va plutôt minimiser\n",
    "l’écart entre la fonction et le polynôme. Soient $t_i=\\frac{i}{m-1}$, $i = 0,\\dots, m-1$, les points où la fonction $f$\n",
    "est connue. Notons $n$ le degré du polynôme, et $x_j$ , $j = 0,\\dots, n$ ses coefficients.\n",
    "Dans cet exemple, on prend $f (t) = \\exp(\\sin(4t))$ sur $[0, 1]$, avec $m = 100$ et $n = 14$.\n",
    "Dans ce cas, la dernière composante de la solution $x$ « exacte » (calculée par Maple) vaut\n",
    "2006.7874531048527. On divisera le second membre par cette valeur « magique », afin que\n",
    "$x_{14} = 1$."
   ]
  },
  {
   "cell_type": "markdown",
   "metadata": {},
   "source": [
    "**1**. Montrer que la matrice et le second membre du problème de moindres carrés correspondant sont donnés par\n",
    "$$A_{ij} = t_i^j,\\hspace{5mm} y_i = f (t_i).$$\n",
    "Ces formules se traduisent par le code Julia suivant :"
   ]
  },
  {
   "cell_type": "code",
   "execution_count": null,
   "metadata": {},
   "outputs": [],
   "source": [
    "m=100\n",
    "n=14\n",
    "\n",
    "t = [ i/(m-1) for i in 0:(m-1)]\n",
    "A = [tau^j for tau in t, j in 0:n]\n",
    "\n",
    "magique=2006.7874531048527;\n",
    "y=exp.(sin.(4*t))/magique;"
   ]
  },
  {
   "cell_type": "markdown",
   "metadata": {},
   "source": [
    "**2**.  Comparer les solutions obtenues par les quatre méthodes suivantes :\n",
    "\n",
    "- Equations normales\n",
    "\n",
    "- Algorithme QR\n",
    "\n",
    "- SVD de $A$\n",
    "\n",
    "- Algorithme par défaut de Julia `x = A\\y`\n",
    "\n",
    "Que constatez-vous sur les résultats obtenus?"
   ]
  },
  {
   "cell_type": "code",
   "execution_count": null,
   "metadata": {},
   "outputs": [],
   "source": [
    "x1=(A'*A)\\(A'*y)"
   ]
  },
  {
   "cell_type": "code",
   "execution_count": null,
   "metadata": {},
   "outputs": [],
   "source": [
    "Q,R = qr(A);\n",
    "x2 = R\\(Q[:,1:size(A,2)]'*y)"
   ]
  },
  {
   "cell_type": "code",
   "execution_count": null,
   "metadata": {},
   "outputs": [],
   "source": [
    "U,S,V=svd(A);\n",
    "x3 = V * ((1 ./S) .* (U'*y))"
   ]
  },
  {
   "cell_type": "code",
   "execution_count": null,
   "metadata": {},
   "outputs": [],
   "source": [
    "x4 = A\\y"
   ]
  },
  {
   "cell_type": "markdown",
   "metadata": {},
   "source": [
    "**3.** Comparer graphiquement les données « expérimentales » avec les différentes prédictions\n",
    "(remarquer qu’elles se calculent par `A*x`, où `x` est l’une des solutions calculées ci-dessus."
   ]
  },
  {
   "cell_type": "code",
   "execution_count": null,
   "metadata": {},
   "outputs": [],
   "source": [
    "plot(t, y,labels=\"Real\")\n",
    "plot!(t,A*x1,labels=\"Normal\")\n",
    "plot!(t,A*x2,labels=\"QR\")\n",
    "plot!(t,A*x3,labels=\"SVD\")\n",
    "plot!(t,A*x4,labels=\"Default\")"
   ]
  },
  {
   "cell_type": "markdown",
   "metadata": {},
   "source": [
    "**4.** Comment l'antislash \"\\\\\" (la méthode par défaut qui permet de résoudre les systèmes linéaires) fonctionne-t-elle?\n",
    "On pourra consulter \n",
    "- la documentation de Julia\n",
    "https://docs.julialang.org/en/v1/stdlib/LinearAlgebra/#Standard-functions\n",
    "\n",
    "- ou le code source (lien issu de la documentation):\n",
    "https://github.com/JuliaLang/julia/blob/bf534986350a991e4a1b29126de0342ffd76205e/stdlib/LinearAlgebra/src/generic.jl#L1097-L1127"
   ]
  },
  {
   "cell_type": "code",
   "execution_count": null,
   "metadata": {},
   "outputs": [],
   "source": []
  }
 ],
 "metadata": {
  "kernelspec": {
   "display_name": "Julia 1.7.2",
   "language": "julia",
   "name": "julia-1.7"
  },
  "language_info": {
   "file_extension": ".jl",
   "mimetype": "application/julia",
   "name": "julia",
   "version": "1.7.2"
  }
 },
 "nbformat": 4,
 "nbformat_minor": 4
}
