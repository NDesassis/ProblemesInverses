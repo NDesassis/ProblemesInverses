{
 "cells": [
  {
   "cell_type": "markdown",
   "metadata": {},
   "source": [
    "# TP - ES Problèmes inverses\n",
    "\n",
    "Vincent Duval, Nicolas Desassis (à partir du TP en Matlab de Michel Kern)"
   ]
  },
  {
   "cell_type": "markdown",
   "metadata": {},
   "source": [
    "Commencer par charger les différents packages nécessaires au TP."
   ]
  },
  {
   "cell_type": "code",
   "execution_count": null,
   "metadata": {},
   "outputs": [],
   "source": [
    "using Plots\n",
    "using LinearAlgebra"
   ]
  },
  {
   "cell_type": "markdown",
   "metadata": {},
   "source": [
    "## Exercice 1 - Lissage polynômial – stabilité des méthodes pour les moindres carrés\n",
    "\n",
    "On cherche à approcher une fonction $f$ par un polynôme $x$ de degré donné. Il est connu que\n",
    "l’interpolation conduit à des oscillations de grande amplitude, et l’on va plutôt minimiser\n",
    "l’écart entre la fonction et le polynôme. Soient $t_i=\\frac{i}{m-1}$, $i = 0,\\dots, m-1$, les points où la fonction $f$\n",
    "est connue. Notons $n$ le degré du polynôme, et $x_j$ , $j = 0,\\dots, n$ ses coefficients.\n",
    "Dans cet exemple, on prend $f (t) = \\exp(\\sin(4t))$ sur $[0, 1]$, avec $m = 100$ et $n = 14$.\n",
    "Dans ce cas, la dernière composante de la solution $x$ « exacte » (calculée par Maple) vaut\n",
    "2006.7874531048527. On divisera le second membre par cette valeur « magique », afin que\n",
    "$x_{14} = 1$."
   ]
  },
  {
   "cell_type": "markdown",
   "metadata": {},
   "source": [
    "**1**. Montrer que la matrice et le second membre du problème de moindres carrés correspondant sont donnés par\n",
    "$$A_{ij} = t_i^j,\\hspace{5mm} y_i = f (t_i).$$\n",
    "Ces formules se traduisent par le code Julia suivant :"
   ]
  },
  {
   "cell_type": "code",
   "execution_count": null,
   "metadata": {},
   "outputs": [],
   "source": [
    "m=100\n",
    "n=14\n",
    "\n",
    "t = [ i/(m-1) for i in 0:(m-1)]\n",
    "A = [tau^j for tau in t, j in 0:n]\n",
    "\n",
    "magique=2006.7874531048527;\n",
    "y=exp.(sin.(4*t))/magique;"
   ]
  },
  {
   "cell_type": "markdown",
   "metadata": {},
   "source": [
    "**2**.  Comparer les solutions obtenues par les quatre méthodes suivantes :\n",
    "\n",
    "- Equations normales\n",
    "\n",
    "- Algorithme QR\n",
    "\n",
    "- SVD de $A$\n",
    "\n",
    "- Algorithme par défaut de Julia `x = A\\y`\n",
    "\n",
    "Que constatez-vous sur les résultats obtenus?"
   ]
  },
  {
   "cell_type": "code",
   "execution_count": null,
   "metadata": {},
   "outputs": [],
   "source": [
    "x1=(A'*A)\\(A'*y)"
   ]
  },
  {
   "cell_type": "code",
   "execution_count": null,
   "metadata": {},
   "outputs": [],
   "source": [
    "Q,R = qr(A);\n",
    "x2 = R\\(Q'*y)[1:size(A,2)]"
   ]
  },
  {
   "cell_type": "code",
   "execution_count": null,
   "metadata": {},
   "outputs": [],
   "source": [
    "U,S,V=svd(A);\n",
    "x3 = V * ((1 ./S) .* (U'*y))"
   ]
  },
  {
   "cell_type": "code",
   "execution_count": null,
   "metadata": {},
   "outputs": [],
   "source": [
    "x4 = A\\y"
   ]
  },
  {
   "cell_type": "markdown",
   "metadata": {},
   "source": [
    "**3.** Comparer graphiquement les données « expérimentales » avec les différentes prédictions\n",
    "(remarquer qu’elles se calculent par `A*x`, où `x` est l’une des solutions calculées ci-dessus."
   ]
  },
  {
   "cell_type": "code",
   "execution_count": null,
   "metadata": {},
   "outputs": [],
   "source": [
    "plot(t, y,labels=\"Real\")\n",
    "plot!(t,A*x1,labels=\"Normal\")\n",
    "plot!(t,A*x2,labels=\"QR\")\n",
    "plot!(t,A*x3,labels=\"SVD\")\n",
    "plot!(t,A*x4,labels=\"Default\")"
   ]
  }
 ],
 "metadata": {
  "kernelspec": {
   "display_name": "Julia 1.5.3",
   "language": "julia",
   "name": "julia-1.5"
  },
  "language_info": {
   "file_extension": ".jl",
   "mimetype": "application/julia",
   "name": "julia",
   "version": "1.5.4"
  }
 },
 "nbformat": 4,
 "nbformat_minor": 4
}
